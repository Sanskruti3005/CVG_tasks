{
  "nbformat": 4,
  "nbformat_minor": 0,
  "metadata": {
    "colab": {
      "name": "GAN_.ipynb",
      "provenance": [],
      "authorship_tag": "ABX9TyN3I8n8zklLMmIsfeoGNLti",
      "include_colab_link": true
    },
    "kernelspec": {
      "name": "python3",
      "display_name": "Python 3"
    },
    "language_info": {
      "name": "python"
    }
  },
  "cells": [
    {
      "cell_type": "markdown",
      "metadata": {
        "id": "view-in-github",
        "colab_type": "text"
      },
      "source": [
        "<a href=\"https://colab.research.google.com/github/Sanskruti3005/CVG_tasks/blob/main/GAN_.ipynb\" target=\"_parent\"><img src=\"https://colab.research.google.com/assets/colab-badge.svg\" alt=\"Open In Colab\"/></a>"
      ]
    },
    {
      "cell_type": "code",
      "metadata": {
        "id": "ZOQUhe5YnQpF"
      },
      "source": [
        "import torch\n",
        "from torch import nn\n",
        "\n",
        "import math\n",
        "import matplotlib.pyplot as plt"
      ],
      "execution_count": null,
      "outputs": []
    },
    {
      "cell_type": "code",
      "metadata": {
        "colab": {
          "base_uri": "https://localhost:8080/"
        },
        "id": "OP2rSqdenpdX",
        "outputId": "723f6e93-4af8-43d3-ccfa-8c6430a5c83b"
      },
      "source": [
        "torch.manual_seed(111)"
      ],
      "execution_count": null,
      "outputs": [
        {
          "output_type": "execute_result",
          "data": {
            "text/plain": [
              "<torch._C.Generator at 0x7f1051e5e950>"
            ]
          },
          "metadata": {
            "tags": []
          },
          "execution_count": 2
        }
      ]
    },
    {
      "cell_type": "code",
      "metadata": {
        "id": "eB5sGzG6nuMj"
      },
      "source": [
        "train_data_length = 1024\n",
        "train_data = torch.zeros((train_data_length, 2))\n",
        "train_data[:, 0] = 2 * math.pi * torch.rand(train_data_length)\n",
        "train_data[:, 1] = torch.sin(train_data[:, 0])\n",
        "train_labels = torch.zeros(train_data_length)\n",
        "train_set = [\n",
        "    (train_data[i], train_labels[i]) for i in range(train_data_length)\n",
        "]"
      ],
      "execution_count": null,
      "outputs": []
    },
    {
      "cell_type": "code",
      "metadata": {
        "colab": {
          "base_uri": "https://localhost:8080/",
          "height": 282
        },
        "id": "le-JMCPOnyZf",
        "outputId": "3cddef44-d877-4be9-e13d-a4a598dbe526"
      },
      "source": [
        "plt.plot(train_data[:, 0], train_data[:, 1], \".\")"
      ],
      "execution_count": null,
      "outputs": [
        {
          "output_type": "execute_result",
          "data": {
            "text/plain": [
              "[<matplotlib.lines.Line2D at 0x7f10a5d28b10>]"
            ]
          },
          "metadata": {
            "tags": []
          },
          "execution_count": 4
        },
        {
          "output_type": "display_data",
          "data": {
            "image/png": "[encoded data removed]",
            "text/plain": [
              "<Figure size 432x288 with 1 Axes>"
            ]
          },
          "metadata": {
            "tags": [],
            "needs_background": "light"
          }
        }
      ]
    },
    {
      "cell_type": "code",
      "metadata": {
        "id": "wR9xPsGenzoy"
      },
      "source": [
        "batch_size = 32\n",
        "train_loader = torch.utils.data.DataLoader(\n",
        "    train_set, batch_size=batch_size, shuffle=True\n",
        ")"
      ],
      "execution_count": null,
      "outputs": []
    },
    {
      "cell_type": "code",
      "metadata": {
        "id": "JdzdD52Dn6vU"
      },
      "source": [
        "class Discriminator(nn.Module):\n",
        "    def __init__(self):\n",
        "        super().__init__()\n",
        "        self.model = nn.Sequential(\n",
        "            nn.Linear(2, 256),\n",
        "            nn.ReLU(),\n",
        "            nn.Dropout(0.3),\n",
        "            nn.Linear(256, 128),\n",
        "            nn.ReLU(),\n",
        "            nn.Dropout(0.3),\n",
        "            nn.Linear(128, 64),\n",
        "            nn.ReLU(),\n",
        "            nn.Dropout(0.3),\n",
        "            nn.Linear(64, 1),\n",
        "            nn.Sigmoid(),\n",
        "        )\n",
        "\n",
        "    def forward(self, x):\n",
        "        output = self.model(x)\n",
        "        return output"
      ],
      "execution_count": null,
      "outputs": []
    },
    {
      "cell_type": "code",
      "metadata": {
        "id": "9EnlbWNdn_y4"
      },
      "source": [
        "discriminator = Discriminator()"
      ],
      "execution_count": null,
      "outputs": []
    },
    {
      "cell_type": "code",
      "metadata": {
        "id": "s7vgW95IoEPT"
      },
      "source": [
        "class Generator(nn.Module):\n",
        "    def __init__(self):\n",
        "        super().__init__()\n",
        "        self.model = nn.Sequential(\n",
        "            nn.Linear(2, 16),\n",
        "            nn.ReLU(),\n",
        "            nn.Linear(16, 32),\n",
        "            nn.ReLU(),\n",
        "            nn.Linear(32, 2),\n",
        "        )\n",
        "\n",
        "    def forward(self, x):\n",
        "        output = self.model(x)\n",
        "        return output\n",
        "\n",
        "generator = Generator()"
      ],
      "execution_count": null,
      "outputs": []
    },
    {
      "cell_type": "code",
      "metadata": {
        "id": "gKvcuzakoHOj"
      },
      "source": [
        "lr = 0.001\n",
        "num_epochs = 300\n",
        "loss_function = nn.BCELoss()"
      ],
      "execution_count": null,
      "outputs": []
    },
    {
      "cell_type": "code",
      "metadata": {
        "id": "ebORRf7WoKna"
      },
      "source": [
        "optimizer_discriminator = torch.optim.Adam(discriminator.parameters(), lr=lr)\n",
        "optimizer_generator = torch.optim.Adam(generator.parameters(), lr=lr)"
      ],
      "execution_count": null,
      "outputs": []
    },
    {
      "cell_type": "code",
      "metadata": {
        "colab": {
          "base_uri": "https://localhost:8080/"
        },
        "id": "_Gb3--wIoO6n",
        "outputId": "8bde73d0-cb05-4d70-f8c0-102d74458810"
      },
      "source": [
        "for epoch in range(num_epochs):\n",
        "    for n, (real_samples, _) in enumerate(train_loader):\n",
        "        # Data for training the discriminator\n",
        "        real_samples_labels = torch.ones((batch_size, 1))\n",
        "        latent_space_samples = torch.randn((batch_size, 2))\n",
        "        generated_samples = generator(latent_space_samples)\n",
        "        generated_samples_labels = torch.zeros((batch_size, 1))\n",
        "        all_samples = torch.cat((real_samples, generated_samples))\n",
        "        all_samples_labels = torch.cat(\n",
        "            (real_samples_labels, generated_samples_labels)\n",
        "        )\n",
        "\n",
        "        # Training the discriminator\n",
        "        discriminator.zero_grad()\n",
        "        output_discriminator = discriminator(all_samples)\n",
        "        loss_discriminator = loss_function(\n",
        "            output_discriminator, all_samples_labels)\n",
        "        loss_discriminator.backward()\n",
        "        optimizer_discriminator.step()\n",
        "\n",
        "        # Data for training the generator\n",
        "        latent_space_samples = torch.randn((batch_size, 2))\n",
        "\n",
        "        # Training the generator\n",
        "        generator.zero_grad()\n",
        "        generated_samples = generator(latent_space_samples)\n",
        "        output_discriminator_generated = discriminator(generated_samples)\n",
        "        loss_generator = loss_function(\n",
        "            output_discriminator_generated, real_samples_labels\n",
        "        )\n",
        "        loss_generator.backward()\n",
        "        optimizer_generator.step()\n",
        "\n",
        "        # Show loss\n",
        "        if epoch % 10 == 0 and n == batch_size - 1:\n",
        "            print(f\"Epoch: {epoch} Loss D.: {loss_discriminator}\")\n",
        "            print(f\"Epoch: {epoch} Loss G.: {loss_generator}\")"
      ],
      "execution_count": null,
      "outputs": [
        {
          "output_type": "stream",
          "text": [
            "Epoch: 0 Loss D.: 0.19172893464565277\n",
            "Epoch: 0 Loss G.: 2.205277681350708\n",
            "Epoch: 10 Loss D.: 0.6455698013305664\n",
            "Epoch: 10 Loss G.: 0.8941397070884705\n",
            "Epoch: 20 Loss D.: 0.6453320384025574\n",
            "Epoch: 20 Loss G.: 0.8890978693962097\n",
            "Epoch: 30 Loss D.: 0.6027293801307678\n",
            "Epoch: 30 Loss G.: 1.0925241708755493\n",
            "Epoch: 40 Loss D.: 0.5988795161247253\n",
            "Epoch: 40 Loss G.: 0.893737256526947\n",
            "Epoch: 50 Loss D.: 0.6538512706756592\n",
            "Epoch: 50 Loss G.: 0.7250615358352661\n",
            "Epoch: 60 Loss D.: 0.6476534605026245\n",
            "Epoch: 60 Loss G.: 0.7206212878227234\n",
            "Epoch: 70 Loss D.: 0.6404522657394409\n",
            "Epoch: 70 Loss G.: 0.9210346937179565\n",
            "Epoch: 80 Loss D.: 0.6050862669944763\n",
            "Epoch: 80 Loss G.: 0.8678811192512512\n",
            "Epoch: 90 Loss D.: 0.6960200071334839\n",
            "Epoch: 90 Loss G.: 0.9877095818519592\n",
            "Epoch: 100 Loss D.: 0.6760662198066711\n",
            "Epoch: 100 Loss G.: 0.8375099897384644\n",
            "Epoch: 110 Loss D.: 0.6256373524665833\n",
            "Epoch: 110 Loss G.: 0.8139169812202454\n",
            "Epoch: 120 Loss D.: 0.6630818843841553\n",
            "Epoch: 120 Loss G.: 0.8554103374481201\n",
            "Epoch: 130 Loss D.: 0.6054778099060059\n",
            "Epoch: 130 Loss G.: 0.8445630073547363\n",
            "Epoch: 140 Loss D.: 0.6190559267997742\n",
            "Epoch: 140 Loss G.: 0.8510276079177856\n",
            "Epoch: 150 Loss D.: 0.5931466817855835\n",
            "Epoch: 150 Loss G.: 1.0073745250701904\n",
            "Epoch: 160 Loss D.: 0.5804510116577148\n",
            "Epoch: 160 Loss G.: 0.9136419892311096\n",
            "Epoch: 170 Loss D.: 0.6774938106536865\n",
            "Epoch: 170 Loss G.: 0.7979069948196411\n",
            "Epoch: 180 Loss D.: 0.656950831413269\n",
            "Epoch: 180 Loss G.: 0.871107816696167\n",
            "Epoch: 190 Loss D.: 0.6378018856048584\n",
            "Epoch: 190 Loss G.: 0.8768704533576965\n",
            "Epoch: 200 Loss D.: 0.6657326221466064\n",
            "Epoch: 200 Loss G.: 0.7902441620826721\n",
            "Epoch: 210 Loss D.: 0.7319129109382629\n",
            "Epoch: 210 Loss G.: 0.7569544911384583\n",
            "Epoch: 220 Loss D.: 0.6565060615539551\n",
            "Epoch: 220 Loss G.: 0.8448057174682617\n",
            "Epoch: 230 Loss D.: 0.6149675250053406\n",
            "Epoch: 230 Loss G.: 0.9203189015388489\n",
            "Epoch: 240 Loss D.: 0.679588794708252\n",
            "Epoch: 240 Loss G.: 0.6760592460632324\n",
            "Epoch: 250 Loss D.: 0.7859975099563599\n",
            "Epoch: 250 Loss G.: 0.7225651741027832\n",
            "Epoch: 260 Loss D.: 0.6496187448501587\n",
            "Epoch: 260 Loss G.: 0.9215040802955627\n",
            "Epoch: 270 Loss D.: 0.6612464785575867\n",
            "Epoch: 270 Loss G.: 0.8845931887626648\n",
            "Epoch: 280 Loss D.: 0.573764979839325\n",
            "Epoch: 280 Loss G.: 0.9368816614151001\n",
            "Epoch: 290 Loss D.: 0.6860219240188599\n",
            "Epoch: 290 Loss G.: 0.7397873401641846\n"
          ],
          "name": "stdout"
        }
      ]
    },
    {
      "cell_type": "code",
      "metadata": {
        "id": "OyVX8FqhodU6"
      },
      "source": [
        "latent_space_samples = torch.randn(100, 2)\n",
        "generated_samples = generator(latent_space_samples)"
      ],
      "execution_count": null,
      "outputs": []
    },
    {
      "cell_type": "code",
      "metadata": {
        "id": "4R51-Ge4ogIC",
        "colab": {
          "base_uri": "https://localhost:8080/",
          "height": 282
        },
        "outputId": "e52aeff2-bf53-4ffd-ac81-908af9c2439f"
      },
      "source": [
        "generated_samples = generated_samples.detach()\n",
        "plt.plot(generated_samples[:, 0], generated_samples[:, 1], \".\")"
      ],
      "execution_count": null,
      "outputs": [
        {
          "output_type": "execute_result",
          "data": {
            "text/plain": [
              "[<matplotlib.lines.Line2D at 0x7f1050d721d0>]"
            ]
          },
          "metadata": {
            "tags": []
          },
          "execution_count": 13
        },
        {
          "output_type": "display_data",
          "data": {
            "image/png": "[encoded data removed]",
            "text/plain": [
              "<Figure size 432x288 with 1 Axes>"
            ]
          },
          "metadata": {
            "tags": [],
            "needs_background": "light"
          }
        }
      ]
    },
    {
      "cell_type": "code",
      "metadata": {
        "id": "9la8ACswolh6"
      },
      "source": [
        ""
      ],
      "execution_count": null,
      "outputs": []
    }
  ]
}